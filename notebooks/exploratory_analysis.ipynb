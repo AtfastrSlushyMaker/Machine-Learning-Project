{
  "nbformat": 4,
  "nbformat_minor": 0,
  "metadata": {
    "colab": {
      "provenance": [],
      "include_colab_link": true
    },
    "kernelspec": {
      "name": "python3",
      "display_name": "Python 3"
    },
    "language_info": {
      "name": "python"
    }
  },
  "cells": [
    {
      "cell_type": "markdown",
      "metadata": {
        "id": "view-in-github",
        "colab_type": "text"
      },
      "source": [
        "<a href=\"https://colab.research.google.com/github/AtfastrSlushyMaker/pl-standings-prediction-project/blob/main/notebooks/exploratory_analysis.ipynb\" target=\"_parent\"><img src=\"https://colab.research.google.com/assets/colab-badge.svg\" alt=\"Open In Colab\"/></a>"
      ]
    },
    {
      "cell_type": "code",
      "execution_count": 1,
      "metadata": {
        "id": "ONPMGdPncia1"
      },
      "outputs": [],
      "source": [
        "import pandas as pd\n",
        "import numpy as np\n",
        "import matplotlib.pyplot as plt\n",
        "import seaborn as sns"
      ]
    },
    {
      "cell_type": "code",
      "source": [
        "df = pd.read_csv('premier_league_combined.csv')"
      ],
      "metadata": {
        "id": "vFKIHlzfrAU-"
      },
      "execution_count": 2,
      "outputs": []
    },
    {
      "cell_type": "code",
      "source": [
        "# Convert Date to datetime\n",
        "df['Date'] = pd.to_datetime(df['Date'])"
      ],
      "metadata": {
        "id": "ZaSYgYuGrnXQ"
      },
      "execution_count": 3,
      "outputs": []
    },
    {
      "cell_type": "code",
      "source": [
        "matches_per_season = df.groupby('Season').size()\n",
        "\n",
        "# Goals scored\n",
        "df['TotalGoals'] = df['FTHG'] + df['FTAG']\n",
        "\n",
        "# Home advantage\n",
        "home_wins = (df['FTR'] == 'H').mean()"
      ],
      "metadata": {
        "id": "sf1JEH8ZrvfJ"
      },
      "execution_count": 4,
      "outputs": []
    },
    {
      "cell_type": "code",
      "source": [
        "# Perform some initial EDA\n",
        "print(\"Dataset shape:\", df.shape)\n",
        "print(\"\\nDataset info:\")\n",
        "df.info()\n",
        "print(\"\\nMissing values percentage:\")\n",
        "print(df.isnull().mean() * 100)\n",
        "print(\"\\nDescriptive statistics:\")\n",
        "display(df.describe())\n",
        "\n",
        "# Analyze categorical features (example: FTR - Full Time Result)\n",
        "print(\"\\nFull Time Result value counts:\")\n",
        "print(df['FTR'].value_counts())\n",
        "\n",
        "# Analyze numerical features (example: TotalGoals)\n",
        "print(\"\\nTotalGoals distribution:\")\n",
        "plt.figure(figsize=(8, 6))\n",
        "sns.histplot(df['TotalGoals'], bins=20, kde=True)\n",
        "plt.title('Distribution of Total Goals per Match')\n",
        "plt.xlabel('Total Goals')\n",
        "plt.ylabel('Frequency')\n",
        "plt.show()"
      ],
      "metadata": {
        "colab": {
          "base_uri": "https://localhost:8080/"
        },
        "id": "Ky1Xe64ZsJ8n",
        "outputId": "c615cbc0-a9c7-47fe-c63b-baefb799e32c"
      },
      "execution_count": 5,
      "outputs": [
        {
          "output_type": "stream",
          "name": "stdout",
          "text": [
            "Season           0\n",
            "SourceFile       0\n",
            "Date             0\n",
            "HomeTeam         0\n",
            "AwayTeam         0\n",
            "FTHG             0\n",
            "FTAG             0\n",
            "FTR              0\n",
            "HTHG           924\n",
            "HTAG           924\n",
            "HTR            924\n",
            "Referee       2824\n",
            "HS            2824\n",
            "AS            2824\n",
            "HST           2824\n",
            "AST           2824\n",
            "HF            2824\n",
            "AF            2824\n",
            "HC            2824\n",
            "AC            2824\n",
            "HY            2824\n",
            "AY            2824\n",
            "HR            2824\n",
            "AR            2824\n",
            "TotalGoals       0\n",
            "dtype: int64\n"
          ]
        }
      ]
    },
    {
      "cell_type": "code",
      "source": [
        "print(df.isnull().mean() * 100)"
      ],
      "metadata": {
        "colab": {
          "base_uri": "https://localhost:8080/"
        },
        "id": "qetSQ1Bmsoje",
        "outputId": "fae5403a-3c57-493c-88be-f49b9a93a9c1"
      },
      "execution_count": 6,
      "outputs": [
        {
          "output_type": "stream",
          "name": "stdout",
          "text": [
            "Season         0.000000\n",
            "SourceFile     0.000000\n",
            "Date           0.000000\n",
            "HomeTeam       0.000000\n",
            "AwayTeam       0.000000\n",
            "FTHG           0.000000\n",
            "FTAG           0.000000\n",
            "FTR            0.000000\n",
            "HTHG           7.497566\n",
            "HTAG           7.497566\n",
            "HTR            7.497566\n",
            "Referee       22.914638\n",
            "HS            22.914638\n",
            "AS            22.914638\n",
            "HST           22.914638\n",
            "AST           22.914638\n",
            "HF            22.914638\n",
            "AF            22.914638\n",
            "HC            22.914638\n",
            "AC            22.914638\n",
            "HY            22.914638\n",
            "AY            22.914638\n",
            "HR            22.914638\n",
            "AR            22.914638\n",
            "TotalGoals     0.000000\n",
            "dtype: float64\n"
          ]
        }
      ]
    },
    {
      "cell_type": "code",
      "source": [
        "print(df.shape)        # dimensions\n",
        "print(df.info())       # types de données + valeurs manquantes\n",
        "print(df.describe())   # stats descriptives"
      ],
      "metadata": {
        "id": "0nZeJ9TytEOU",
        "outputId": "f5eb3410-93d2-4589-eaa2-67e0941701fd",
        "colab": {
          "base_uri": "https://localhost:8080/"
        }
      },
      "execution_count": 7,
      "outputs": [
        {
          "output_type": "stream",
          "name": "stdout",
          "text": [
            "(12324, 25)\n",
            "<class 'pandas.core.frame.DataFrame'>\n",
            "RangeIndex: 12324 entries, 0 to 12323\n",
            "Data columns (total 25 columns):\n",
            " #   Column      Non-Null Count  Dtype         \n",
            "---  ------      --------------  -----         \n",
            " 0   Season      12324 non-null  object        \n",
            " 1   SourceFile  12324 non-null  object        \n",
            " 2   Date        12324 non-null  datetime64[ns]\n",
            " 3   HomeTeam    12324 non-null  object        \n",
            " 4   AwayTeam    12324 non-null  object        \n",
            " 5   FTHG        12324 non-null  int64         \n",
            " 6   FTAG        12324 non-null  int64         \n",
            " 7   FTR         12324 non-null  object        \n",
            " 8   HTHG        11400 non-null  float64       \n",
            " 9   HTAG        11400 non-null  float64       \n",
            " 10  HTR         11400 non-null  object        \n",
            " 11  Referee     9500 non-null   object        \n",
            " 12  HS          9500 non-null   float64       \n",
            " 13  AS          9500 non-null   float64       \n",
            " 14  HST         9500 non-null   float64       \n",
            " 15  AST         9500 non-null   float64       \n",
            " 16  HF          9500 non-null   float64       \n",
            " 17  AF          9500 non-null   float64       \n",
            " 18  HC          9500 non-null   float64       \n",
            " 19  AC          9500 non-null   float64       \n",
            " 20  HY          9500 non-null   float64       \n",
            " 21  AY          9500 non-null   float64       \n",
            " 22  HR          9500 non-null   float64       \n",
            " 23  AR          9500 non-null   float64       \n",
            " 24  TotalGoals  12324 non-null  int64         \n",
            "dtypes: datetime64[ns](1), float64(14), int64(3), object(7)\n",
            "memory usage: 2.4+ MB\n",
            "None\n",
            "                                Date          FTHG          FTAG  \\\n",
            "count                          12324  12324.000000  12324.000000   \n",
            "mean   2009-04-21 14:47:12.327166464      1.530996      1.163827   \n",
            "min              1993-08-14 00:00:00      0.000000      0.000000   \n",
            "25%              2001-02-10 00:00:00      1.000000      0.000000   \n",
            "50%              2009-03-22 00:00:00      1.000000      1.000000   \n",
            "75%              2017-04-29 06:00:00      2.000000      2.000000   \n",
            "max              2025-05-25 00:00:00      9.000000      9.000000   \n",
            "std                              NaN      1.307882      1.147353   \n",
            "\n",
            "               HTHG          HTAG           HS           AS          HST  \\\n",
            "count  11400.000000  11400.000000  9500.000000  9500.000000  9500.000000   \n",
            "mean       0.691228      0.511754    13.611895    10.803789     5.980421   \n",
            "min        0.000000      0.000000     0.000000     0.000000     0.000000   \n",
            "25%        0.000000      0.000000    10.000000     7.000000     4.000000   \n",
            "50%        0.000000      0.000000    13.000000    10.000000     6.000000   \n",
            "75%        1.000000      1.000000    17.000000    14.000000     8.000000   \n",
            "max        5.000000      5.000000    43.000000    37.000000    24.000000   \n",
            "std        0.840313      0.731435     5.347962     4.700194     3.266755   \n",
            "\n",
            "               AST           HF           AF           HC           AC  \\\n",
            "count  9500.000000  9500.000000  9500.000000  9500.000000  9500.000000   \n",
            "mean      4.695263    11.285368    11.773579     6.037263     4.770421   \n",
            "min       0.000000     0.000000     1.000000     0.000000     0.000000   \n",
            "25%       3.000000     9.000000     9.000000     4.000000     3.000000   \n",
            "50%       4.000000    11.000000    12.000000     6.000000     4.000000   \n",
            "75%       6.000000    14.000000    14.000000     8.000000     6.000000   \n",
            "max      20.000000    33.000000    29.000000    20.000000    19.000000   \n",
            "std       2.749782     3.751680     3.920356     3.108943     2.751954   \n",
            "\n",
            "                HY           AY           HR           AR    TotalGoals  \n",
            "count  9500.000000  9500.000000  9500.000000  9500.000000  12324.000000  \n",
            "mean      1.465579     1.788947     0.062632     0.085579      2.694823  \n",
            "min       0.000000     0.000000     0.000000     0.000000      0.000000  \n",
            "25%       1.000000     1.000000     0.000000     0.000000      1.000000  \n",
            "50%       1.000000     2.000000     0.000000     0.000000      3.000000  \n",
            "75%       2.000000     3.000000     0.000000     0.000000      4.000000  \n",
            "max       7.000000     9.000000     3.000000     2.000000     11.000000  \n",
            "std       1.216692     1.288961     0.253356     0.290826      1.684120  \n"
          ]
        }
      ]
    }
  ]
}