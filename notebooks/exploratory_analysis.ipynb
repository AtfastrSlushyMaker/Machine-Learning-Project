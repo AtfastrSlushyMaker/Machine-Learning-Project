{
  "nbformat": 4,
  "nbformat_minor": 0,
  "metadata": {
    "colab": {
      "provenance": [],
      "include_colab_link": true
    },
    "kernelspec": {
      "name": "python3",
      "display_name": "Python 3"
    },
    "language_info": {
      "name": "python"
    }
  },
  "cells": [
    {
      "cell_type": "markdown",
      "metadata": {
        "id": "view-in-github",
        "colab_type": "text"
      },
      "source": [
        "<a href=\"https://colab.research.google.com/github/AtfastrSlushyMaker/pl-standings-prediction-project/blob/main/notebooks/exploratory_analysis.ipynb\" target=\"_parent\"><img src=\"https://colab.research.google.com/assets/colab-badge.svg\" alt=\"Open In Colab\"/></a>"
      ]
    },
    {
      "cell_type": "code",
      "execution_count": 4,
      "metadata": {
        "id": "ONPMGdPncia1"
      },
      "outputs": [],
      "source": [
        "import pandas as pd\n",
        "import numpy as np\n",
        "import matplotlib.pyplot as plt\n",
        "import seaborn as sns"
      ]
    },
    {
      "cell_type": "code",
      "source": [
        "\n",
        "df = pd.read_csv('premier_league_combined.csv')"
      ],
      "metadata": {
        "id": "Iz1gYs6MsSj2"
      },
      "execution_count": 7,
      "outputs": []
    },
    {
      "cell_type": "code",
      "source": [
        "# Convert Date to datetime\n",
        "df['Date'] = pd.to_datetime(df['Date'])\n",
        "\n"
      ],
      "metadata": {
        "id": "_dfsvtI9sS7o"
      },
      "execution_count": 8,
      "outputs": []
    },
    {
      "cell_type": "code",
      "source": [
        "matches_per_season = df.groupby('Season').size()\n",
        "\n",
        "# Goals scored\n",
        "df['TotalGoals'] = df['FTHG'] + df['FTAG']\n",
        "\n",
        "# Home advantage\n",
        "home_wins = (df['FTR'] == 'H').mean()"
      ],
      "metadata": {
        "id": "2jqNDP09sTMK"
      },
      "execution_count": 9,
      "outputs": []
    }
  ]
}