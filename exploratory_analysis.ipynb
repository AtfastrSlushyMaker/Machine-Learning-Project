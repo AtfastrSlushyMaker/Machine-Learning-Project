{
  "nbformat": 4,
  "nbformat_minor": 0,
  "metadata": {
    "colab": {
      "provenance": [],
      "include_colab_link": true
    },
    "kernelspec": {
      "name": "python3",
      "display_name": "Python 3"
    },
    "language_info": {
      "name": "python"
    }
  },
  "cells": [
    {
      "cell_type": "markdown",
      "metadata": {
        "id": "view-in-github",
        "colab_type": "text"
      },
      "source": [
        "<a href=\"https://colab.research.google.com/github/AtfastrSlushyMaker/pl-standings-prediction-project/blob/main/exploratory_analysis.ipynb\" target=\"_parent\"><img src=\"https://colab.research.google.com/assets/colab-badge.svg\" alt=\"Open In Colab\"/></a>"
      ]
    },
    {
      "cell_type": "code",
      "execution_count": null,
      "metadata": {
        "id": "ONPMGdPncia1"
      },
      "outputs": [],
      "source": [
        "import pandas as pd\n",
        "\n",
        "# Load the combined dataset\n",
        "df = pd.read_csv('premier_league_combined.csv')\n",
        "\n",
        "# Convert Date to datetime\n",
        "df['Date'] = pd.to_datetime(df['Date'])\n",
        "# Matches per season\n",
        "matches_per_season = df.groupby('Season').size()\n",
        "\n",
        "# Goals scored\n",
        "df['TotalGoals'] = df['FTHG'] + df['FTAG']\n",
        "\n",
        "# Home advantage\n",
        "home_wins = (df['FTR'] == 'H').mean()"
      ]
    }
  ]
}